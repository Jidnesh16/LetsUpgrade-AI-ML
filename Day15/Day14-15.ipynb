{
 "cells": [
  {
   "cell_type": "markdown",
   "id": "excess-state",
   "metadata": {},
   "source": [
    "# 1. Create a 3x3x3 array with random values"
   ]
  },
  {
   "cell_type": "code",
   "execution_count": 1,
   "id": "consistent-productivity",
   "metadata": {},
   "outputs": [
    {
     "name": "stdout",
     "output_type": "stream",
     "text": [
      "[[[0.50201251 0.41054928 0.51523249]\n",
      "  [0.58422633 0.20556042 0.76434047]\n",
      "  [0.22077507 0.94086433 0.97971305]]\n",
      "\n",
      " [[0.6795185  0.0075092  0.01478123]\n",
      "  [0.0249073  0.48569839 0.76916409]\n",
      "  [0.15733893 0.07234449 0.02454025]]\n",
      "\n",
      " [[0.68706269 0.93533698 0.90043849]\n",
      "  [0.55338271 0.33629202 0.2948393 ]\n",
      "  [0.34256645 0.65927626 0.22600984]]]\n"
     ]
    }
   ],
   "source": [
    "import numpy as np\n",
    "arr = np.random.random((3,3,3))\n",
    "print(arr)"
   ]
  },
  {
   "cell_type": "markdown",
   "id": "ancient-austin",
   "metadata": {},
   "source": [
    "# 2.Create a 5x5 matrix with values 1,2,3,4 just below the diagonal"
   ]
  },
  {
   "cell_type": "code",
   "execution_count": 2,
   "id": "thousand-cigarette",
   "metadata": {},
   "outputs": [
    {
     "name": "stdout",
     "output_type": "stream",
     "text": [
      "[[1. 0. 0. 0. 0.]\n",
      " [1. 1. 0. 0. 0.]\n",
      " [0. 2. 1. 0. 0.]\n",
      " [0. 0. 3. 1. 0.]\n",
      " [0. 0. 0. 4. 1.]]\n"
     ]
    }
   ],
   "source": [
    "\n",
    "diag = np.eye(5,5)\n",
    "for i in range(1,5):\n",
    "    diag[i,i-1] = i\n",
    "print(diag)"
   ]
  },
  {
   "cell_type": "markdown",
   "id": "realistic-problem",
   "metadata": {},
   "source": [
    "# 3.Create a 8x8 matrix and fill it with a checkerboard pattern"
   ]
  },
  {
   "cell_type": "code",
   "execution_count": 3,
   "id": "labeled-eight",
   "metadata": {},
   "outputs": [
    {
     "name": "stdout",
     "output_type": "stream",
     "text": [
      "[[0 1 0 1 0 1 0 1]\n",
      " [1 0 1 0 1 0 1 0]\n",
      " [0 1 0 1 0 1 0 1]\n",
      " [1 0 1 0 1 0 1 0]\n",
      " [0 1 0 1 0 1 0 1]\n",
      " [1 0 1 0 1 0 1 0]\n",
      " [0 1 0 1 0 1 0 1]\n",
      " [1 0 1 0 1 0 1 0]]\n"
     ]
    }
   ],
   "source": [
    "import numpy as np\n",
    "arr = np.zeros((8,8))\n",
    "#i=0\n",
    "arr[1::2,::2]=1\n",
    "arr[::2,1::2]=1\n",
    "print(arr.astype(int))"
   ]
  },
  {
   "cell_type": "markdown",
   "id": "opposed-advice",
   "metadata": {},
   "source": [
    "# 4. Normalize a 5x5 random matrix"
   ]
  },
  {
   "cell_type": "code",
   "execution_count": 4,
   "id": "eight-upset",
   "metadata": {},
   "outputs": [
    {
     "name": "stdout",
     "output_type": "stream",
     "text": [
      "Array:  [[0.3397128  0.1790127  0.64260713 0.17304208 0.42026249]\n",
      " [0.50205032 0.927063   0.81601618 0.94834403 0.79529285]\n",
      " [0.69212374 0.45379297 0.65214322 0.7554138  0.37337857]\n",
      " [0.4139316  0.50149587 0.25378522 0.98593118 0.86368789]\n",
      " [0.94405794 0.35589145 0.73001015 0.56726963 0.35502507]]\n",
      "Normalized Array: [[0.10689125 0.05632667 0.2021975  0.05444801 0.13223635]\n",
      " [0.15797104 0.29170206 0.25676097 0.29839817 0.25024034]\n",
      " [0.21777799 0.14278678 0.20519805 0.23769232 0.11748425]\n",
      " [0.13024433 0.15779659 0.07985398 0.31022504 0.27176096]\n",
      " [0.29704954 0.11198189 0.22969902 0.17849242 0.11170928]]\n"
     ]
    }
   ],
   "source": [
    "import numpy as np\n",
    "arr = np.random.rand(5,5)\n",
    "print(\"Array: \",arr)\n",
    "normal = np.linalg.norm(arr)\n",
    "normal_array=arr/normal\n",
    "print(\"Normalized Array:\",normal_array)\n"
   ]
  },
  {
   "cell_type": "markdown",
   "id": "invisible-sailing",
   "metadata": {},
   "source": [
    "# 5. How to find common values between two arrays?"
   ]
  },
  {
   "cell_type": "code",
   "execution_count": 5,
   "id": "mechanical-soviet",
   "metadata": {},
   "outputs": [
    {
     "name": "stdout",
     "output_type": "stream",
     "text": [
      "Common Values:  [3 6 9]\n"
     ]
    }
   ],
   "source": [
    "a1 = np.array([1,2,6,3,4,5,7,9])\n",
    "a2= np.array([11,6,8,12,3,77,30,9,55,81])\n",
    "print(\"Common Values: \",np.intersect1d(a1,a2))"
   ]
  },
  {
   "cell_type": "markdown",
   "id": "molecular-berkeley",
   "metadata": {},
   "source": [
    "# 6.How to get the dates of yesterday, today and tomorrow?"
   ]
  },
  {
   "cell_type": "code",
   "execution_count": 6,
   "id": "spiritual-height",
   "metadata": {},
   "outputs": [
    {
     "name": "stdout",
     "output_type": "stream",
     "text": [
      "Yesterday:  2021-03-21\n",
      "Today:  2021-03-22\n",
      "Tomorrow:  2021-03-23\n"
     ]
    }
   ],
   "source": [
    "import datetime\n",
    "today=datetime.date.today()\n",
    "yesterday=today - datetime.timedelta(days=1)\n",
    "tomorrow = today+datetime.timedelta(days=1)\n",
    "\n",
    "print(\"Yesterday: \",yesterday)\n",
    "print(\"Today: \",today)\n",
    "print(\"Tomorrow: \",tomorrow)"
   ]
  },
  {
   "cell_type": "markdown",
   "id": "present-walter",
   "metadata": {},
   "source": [
    "# 7. Consider two random array A and B, check if they are equal"
   ]
  },
  {
   "cell_type": "code",
   "execution_count": 7,
   "id": "forbidden-holiday",
   "metadata": {},
   "outputs": [
    {
     "name": "stdout",
     "output_type": "stream",
     "text": [
      "a3: [[0.78253153 0.72526079 0.84183924]\n",
      " [0.31849162 0.7593217  0.04248998]\n",
      " [0.98007737 0.50799532 0.31981929]]\n",
      "a4: [[0.34236484 0.88160456 0.28834077]\n",
      " [0.02888507 0.01793547 0.17535915]\n",
      " [0.95901679 0.79500053 0.90688238]]\n",
      "They are not equal\n"
     ]
    }
   ],
   "source": [
    "a3=np.random.rand(3,3)\n",
    "a4=np.random.rand(3,3)\n",
    "print(\"a3:\",a3)\n",
    "print(\"a4:\",a4)\n",
    "if (a3==a4).all():\n",
    "    print(\"They are equal\")\n",
    "else:\n",
    "    print(\"They are not equal\")"
   ]
  },
  {
   "cell_type": "markdown",
   "id": "juvenile-prairie",
   "metadata": {},
   "source": [
    "# 8.Create random vector of size 10 and replace the maximum value by 0"
   ]
  },
  {
   "cell_type": "code",
   "execution_count": 8,
   "id": "encouraging-observer",
   "metadata": {},
   "outputs": [
    {
     "name": "stdout",
     "output_type": "stream",
     "text": [
      "Original array:\n",
      "[0.39872168 0.16943289 0.45665513 0.20297273 0.83319223 0.75984644\n",
      " 0.79892388 0.92133234 0.12843831 0.42600369]\n",
      "Maximum value replaced by 0:\n",
      "[0.39872168 0.16943289 0.45665513 0.20297273 0.83319223 0.75984644\n",
      " 0.79892388 0.         0.12843831 0.42600369]\n"
     ]
    }
   ],
   "source": [
    "import numpy as np\n",
    "a = np.random.random(10)\n",
    "print(\"Original array:\")\n",
    "print(a)\n",
    "a[a.argmax()] = 0\n",
    "print(\"Maximum value replaced by 0:\")\n",
    "print(a)"
   ]
  },
  {
   "cell_type": "markdown",
   "id": "featured-taiwan",
   "metadata": {},
   "source": [
    "# 9. How to print all the values of an array?"
   ]
  },
  {
   "cell_type": "code",
   "execution_count": 9,
   "id": "enclosed-birmingham",
   "metadata": {},
   "outputs": [
    {
     "name": "stdout",
     "output_type": "stream",
     "text": [
      "[[10 12 30]\n",
      " [11 22 33]\n",
      " [22 55 88]]\n"
     ]
    }
   ],
   "source": [
    "a6 = np.array([[10,12,30],[11,22,33],[22,55,88]])\n",
    "print(a6)"
   ]
  },
  {
   "cell_type": "markdown",
   "id": "maritime-destruction",
   "metadata": {},
   "source": [
    "# 10.Subtract the mean of each row of a matrix"
   ]
  },
  {
   "cell_type": "code",
   "execution_count": 10,
   "id": "peripheral-spine",
   "metadata": {},
   "outputs": [
    {
     "name": "stdout",
     "output_type": "stream",
     "text": [
      "[[0.09102633 0.34212075]\n",
      " [0.81413404 0.23348654]]\n",
      "[[-0.12554721  0.12554721]\n",
      " [ 0.29032375 -0.29032375]]\n"
     ]
    }
   ],
   "source": [
    "matrix = np.random.rand(2,2)\n",
    "print(matrix)\n",
    "new_matrix = matrix - matrix.mean(axis=1,keepdims=True)\n",
    "print(new_matrix)"
   ]
  },
  {
   "cell_type": "markdown",
   "id": "buried-interview",
   "metadata": {},
   "source": [
    "# 11.Consider a given vector, how to add 1 to each element indexed by a second vector (be careful with repeated indices)?"
   ]
  },
  {
   "cell_type": "code",
   "execution_count": 11,
   "id": "rising-captain",
   "metadata": {},
   "outputs": [
    {
     "name": "stdout",
     "output_type": "stream",
     "text": [
      "[2. 5. 1. 2. 3. 4. 7. 2. 2. 2.]\n"
     ]
    }
   ],
   "source": [
    "import numpy as np\n",
    "Z = np.ones(10)\n",
    "I = np.random.randint(0,len(Z),20)\n",
    "Z += np.bincount(I, minlength=len(Z))\n",
    "print(Z)"
   ]
  },
  {
   "cell_type": "markdown",
   "id": "moral-sheep",
   "metadata": {},
   "source": [
    "# 12.How to get the diagonal of a dot product?"
   ]
  },
  {
   "cell_type": "code",
   "execution_count": 12,
   "id": "controversial-postage",
   "metadata": {},
   "outputs": [
    {
     "name": "stdout",
     "output_type": "stream",
     "text": [
      "[[0 7 8]\n",
      " [1 5 4]\n",
      " [0 9 6]]\n",
      "[[2 3 3]\n",
      " [8 4 8]\n",
      " [3 1 9]]\n"
     ]
    },
    {
     "data": {
      "text/plain": [
       "array([ 80,  27, 126])"
      ]
     },
     "execution_count": 12,
     "metadata": {},
     "output_type": "execute_result"
    }
   ],
   "source": [
    "import numpy as np\n",
    "arr3 = np.random.randint(0,10,(3,3))\n",
    "arr4= np.random.randint(0,10,(3,3))\n",
    "\n",
    "print(arr3)\n",
    "print(arr4)\n",
    "np.diag(np.dot(arr3, arr4))"
   ]
  },
  {
   "cell_type": "markdown",
   "id": "fourth-frequency",
   "metadata": {},
   "source": [
    "# 13.How to find the most frequent value in an array?"
   ]
  },
  {
   "cell_type": "code",
   "execution_count": 13,
   "id": "sporting-proxy",
   "metadata": {},
   "outputs": [
    {
     "name": "stdout",
     "output_type": "stream",
     "text": [
      "[6 4 8 6 9 9 0 6 6 6]\n",
      "Frequent Number: 6\n"
     ]
    }
   ],
   "source": [
    "import numpy as np\n",
    "m = np.random.randint(0,10,10)\n",
    "print (m)\n",
    "print('Frequent Number:', np.bincount(m).argmax())"
   ]
  },
  {
   "cell_type": "markdown",
   "id": "civil-state",
   "metadata": {},
   "source": [
    "# 14.How to get the n largest values of an array"
   ]
  },
  {
   "cell_type": "code",
   "execution_count": 14,
   "id": "executed-ceiling",
   "metadata": {},
   "outputs": [
    {
     "name": "stdout",
     "output_type": "stream",
     "text": [
      "[ 0  1  2  3  4  5  6  7  8  9 10 11 12 13 14 15 16 17 18 19 20 21 22 23\n",
      " 24 25 26 27 28 29 30 31 32 33 34 35 36 37 38 39 40 41 42 43 44]\n",
      "[44]\n"
     ]
    }
   ],
   "source": [
    "import numpy as np\n",
    "x=np.arange(45)\n",
    "print(x)\n",
    "np.random.shuffle(x)\n",
    "n=1\n",
    "print(x[np.argsort(x)[-n:]])"
   ]
  },
  {
   "cell_type": "code",
   "execution_count": 15,
   "id": "hearing-element",
   "metadata": {},
   "outputs": [
    {
     "data": {
      "text/plain": [
       "44"
      ]
     },
     "execution_count": 15,
     "metadata": {},
     "output_type": "execute_result"
    }
   ],
   "source": [
    "np.max(x)"
   ]
  },
  {
   "cell_type": "markdown",
   "id": "center-terminology",
   "metadata": {},
   "source": [
    "# 15.How to create a record array from a regular array?"
   ]
  },
  {
   "cell_type": "code",
   "execution_count": 16,
   "id": "mature-separation",
   "metadata": {},
   "outputs": [],
   "source": [
    "import numpy as np\n",
    "a =np.array(['Hello','Byee','Hello World'])\n",
    "b=np.array([10,20,30])\n",
    "c=np.array(['a','b','c'])\n",
    "result=np.core.records.fromarrays([a,b,c])"
   ]
  },
  {
   "cell_type": "code",
   "execution_count": 17,
   "id": "entitled-mortality",
   "metadata": {},
   "outputs": [
    {
     "name": "stdout",
     "output_type": "stream",
     "text": [
      "('Hello', 10, 'a')\n",
      "('Byee', 20, 'b')\n",
      "('Hello World', 30, 'c')\n"
     ]
    }
   ],
   "source": [
    "print(result[0])\n",
    "print(result[1])\n",
    "print(result[2])"
   ]
  },
  {
   "cell_type": "code",
   "execution_count": null,
   "id": "maritime-halloween",
   "metadata": {},
   "outputs": [],
   "source": []
  }
 ],
 "metadata": {
  "kernelspec": {
   "display_name": "Python 3",
   "language": "python",
   "name": "python3"
  },
  "language_info": {
   "codemirror_mode": {
    "name": "ipython",
    "version": 3
   },
   "file_extension": ".py",
   "mimetype": "text/x-python",
   "name": "python",
   "nbconvert_exporter": "python",
   "pygments_lexer": "ipython3",
   "version": "3.9.2"
  }
 },
 "nbformat": 4,
 "nbformat_minor": 5
}
