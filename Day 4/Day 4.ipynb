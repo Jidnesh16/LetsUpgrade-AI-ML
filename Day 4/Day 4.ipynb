{
 "cells": [
  {
   "cell_type": "code",
   "execution_count": 4,
   "metadata": {},
   "outputs": [
    {
     "name": "stdout",
     "output_type": "stream",
     "text": [
      "Addition of two complex number:  (7+15j)\n",
      "subtraction of two complex number:  (-3-3j)\n",
      "Multiplication of two complex number:  (-44+48j)\n",
      "division of two complex number:  (0.6037735849056604+0.11320754716981132j)\n",
      "Floor division of two complex number:  Floor division cannot be performed on complex numbers\n",
      "modulus of a:  6.324555320336759\n",
      "Modulus of b:  10.295630140987\n"
     ]
    }
   ],
   "source": [
    "#Research on whether addition, subtraction, multiplication, division, floor division and modulo\n",
    "#operations be performed on complex numbers. Based on your study, implement a Python\n",
    "#program to demonstrate these operations.\n",
    "\n",
    "a=complex(2,6)\n",
    "b=complex(5,9)\n",
    "addition=a + b\n",
    "subtraction= a - b\n",
    "multiplication = a * b\n",
    "division = a / b\n",
    "print(\"Addition of two complex number: \", addition)\n",
    "print(\"subtraction of two complex number: \", subtraction)\n",
    "print(\"Multiplication of two complex number: \", multiplication)\n",
    "print(\"division of two complex number: \", division)\n",
    "print(\"Floor division of two complex number: \", \"Floor division cannot be performed on complex numbers\")\n",
    "print(\"modulus of a: \", abs(a))\n",
    "print(\"Modulus of b: \", abs(b))"
   ]
  },
  {
   "cell_type": "markdown",
   "metadata": {},
   "source": [
    "#Research on range() functions and its parameters. Create a markdown cell and write in your own\n",
    "#words (no copy-paste from google please) what you understand about it. Implement a small\n",
    "#program of your choice on the same.\n",
    "\n",
    "It is a built-in function in Python which returns a sequence of numbers starting from 0 and incrementing to 1 until a specified number is reached. Scope function is most widely used in iterating sequence sort. This is most commonly used in for and after loops.\n",
    "\n",
    "Range parameters are stop, start, step\n",
    "\n",
    "1) Start is the parameter which decides which the starting number of the range.\n",
    "\n",
    "2) Stop decides the ending parameter where the range will end or the loop as soon as the number is reached\n",
    "\n",
    "3) Step parameter decied the number of gaps between each number from starting number that is if starting number is 2 and step is    2 then the next number will be 4\n",
    "\n"
   ]
  },
  {
   "cell_type": "code",
   "execution_count": 7,
   "metadata": {},
   "outputs": [
    {
     "name": "stdout",
     "output_type": "stream",
     "text": [
      "2\n",
      "6\n",
      "10\n",
      "14\n",
      "18\n",
      "22\n",
      "26\n",
      "30\n",
      "34\n",
      "38\n",
      "42\n",
      "46\n"
     ]
    }
   ],
   "source": [
    "#program for range function\n",
    "\n",
    "for i in range(2,50,4):\n",
    "    print(i)"
   ]
  },
  {
   "cell_type": "code",
   "execution_count": 8,
   "metadata": {},
   "outputs": [
    {
     "name": "stdout",
     "output_type": "stream",
     "text": [
      "division: 6.0\n"
     ]
    }
   ],
   "source": [
    "#Question 3:\n",
    " #Consider two numbers. Perform their subtraction and if the result of subtraction is greater than\n",
    "#25, print their multiplication result else print their division result.\n",
    "\n",
    "num1=24\n",
    "num2=4\n",
    "\n",
    "sub= num1 - num2\n",
    "if sub>25:\n",
    "    print(\"Multiplication: \", num1*num2)\n",
    "else:\n",
    "    print(\"division:\" , num1/num2)"
   ]
  },
  {
   "cell_type": "code",
   "execution_count": 13,
   "metadata": {},
   "outputs": [
    {
     "name": "stdout",
     "output_type": "stream",
     "text": [
      "2\n",
      "14\n",
      "34\n",
      "1154\n",
      "142\n",
      "1022\n",
      "6082\n",
      "674\n"
     ]
    }
   ],
   "source": [
    "#Consider a list of 10 elements of integer values. If the number in the list is divisible by 2, print the\n",
    "#result as \"square of that number minus 2\".\n",
    "\n",
    "l=[1,2,4,6,9,34,12,32,78,26]\n",
    "for i in range(0,10):\n",
    "    if l[i]%2==0:\n",
    "        print((l[i]*l[i])-2)"
   ]
  },
  {
   "cell_type": "code",
   "execution_count": 17,
   "metadata": {},
   "outputs": [
    {
     "name": "stdout",
     "output_type": "stream",
     "text": [
      "34\n",
      "12\n",
      "32\n",
      "78\n",
      "26\n"
     ]
    }
   ],
   "source": [
    "#Consider a list of 10 elements. Print all the elements in the list which are greater than 7 when that\n",
    "#number is divided 2.\n",
    "\n",
    "l=[1,2,4,6,9,34,12,32,78,26]\n",
    "for i in range(0,10):\n",
    "    if l[i]%2==0 and l[i]>7:\n",
    "        print(l[i])"
   ]
  },
  {
   "cell_type": "code",
   "execution_count": null,
   "metadata": {},
   "outputs": [],
   "source": []
  }
 ],
 "metadata": {
  "kernelspec": {
   "display_name": "Python 3",
   "language": "python",
   "name": "python3"
  },
  "language_info": {
   "codemirror_mode": {
    "name": "ipython",
    "version": 3
   },
   "file_extension": ".py",
   "mimetype": "text/x-python",
   "name": "python",
   "nbconvert_exporter": "python",
   "pygments_lexer": "ipython3",
   "version": "3.8.2"
  }
 },
 "nbformat": 4,
 "nbformat_minor": 4
}
