{
 "cells": [
  {
   "cell_type": "code",
   "execution_count": 4,
   "metadata": {},
   "outputs": [
    {
     "name": "stdout",
     "output_type": "stream",
     "text": [
      "3\n",
      "5\n",
      "7\n",
      "11\n",
      "13\n",
      "17\n",
      "19\n",
      "23\n",
      "29\n",
      "31\n",
      "37\n",
      "41\n",
      "43\n",
      "47\n",
      "53\n",
      "59\n",
      "61\n",
      "67\n",
      "71\n",
      "73\n"
     ]
    }
   ],
   "source": [
    "#Write a Python program to find the first 20 non-even prime natural numbers.\n",
    "\n",
    "i = 3\n",
    "if i == 3:\n",
    "    print(str(i)) #as 3 is first non even prime number \n",
    "    i = i+1\n",
    "c=1\n",
    "\n",
    "while c<20:                  #condition for getting 1st 20 non even prime number\n",
    "    for j in range(2, i):\n",
    "        if i%j==0:\n",
    "            break\n",
    "\n",
    "    if i == j+1:\n",
    "        print(str(i))      #to print 1st 20 non even prime number\n",
    "        c=c+1\n",
    "\n",
    "    i=i+1\n",
    "    "
   ]
  },
  {
   "cell_type": "code",
   "execution_count": 6,
   "metadata": {},
   "outputs": [
    {
     "name": "stdout",
     "output_type": "stream",
     "text": [
      "Letsupgrade \n",
      "         LetsUpgrade          \n",
      "LETSUPGRADE \n",
      "letsupgrade \n",
      "False\n",
      "12\n",
      "L e t s U p g r a d e  \n",
      "L,e,t,s,U,p,g,r,a,d,e, \n",
      "['L', 'tsUpgrad', ' ']\n",
      "LetsUpgrade AI-ML \n",
      "False\n",
      "e\n",
      "etsUp\n",
      "grade\n",
      "<class 'str'>\n"
     ]
    }
   ],
   "source": [
    "#Write a Python program to implement 15 functions of string.\n",
    "\n",
    "str=\"LetsUpgrade \"\n",
    "print(str.capitalize())\n",
    "print(str.center(30))\n",
    "print(str.upper())\n",
    "print(str.lower())\n",
    "print(str.isupper())\n",
    "print(len(str))\n",
    "print(\" \".join(str))\n",
    "print(\",\".join(str))\n",
    "print(str.split(\"e\"))\n",
    "print(str.replace(\"LetsUpgrade\" , \"LetsUpgrade AI-ML\"))\n",
    "print(str.islower())\n",
    "print(str[1])\n",
    "print(str[1:6])\n",
    "print(str[6:-1])\n",
    "del str\n",
    "print(str)\n"
   ]
  },
  {
   "cell_type": "code",
   "execution_count": 7,
   "metadata": {},
   "outputs": [
    {
     "name": "stdout",
     "output_type": "stream",
     "text": [
      "String1 is:  mom\n",
      "String2 is:  dad\n",
      "String1 is Palindrome\n",
      "String2 is Palindrome\n",
      "Strings are not anargam\n"
     ]
    }
   ],
   "source": [
    "#Write a Python program to check if the given string is a Palindrome or Anagram or None of them.\n",
    "#Display the message accordingly to the user.\n",
    "\n",
    "str1=\"mom\"\n",
    "str2=\"dad\"\n",
    "print(\"String1 is: \" , str1)\n",
    "print(\"String2 is: \" , str2)\n",
    "\n",
    "#to check if string1 is palindrome or not\n",
    "if str1==str1[::-1]:\n",
    "    print(\"String1 is Palindrome\")\n",
    "else:\n",
    "    print(\"String1 is not Palindrome\")\n",
    "\n",
    "#to check if string2 is palindrome or not\n",
    "if str2==str2[::-1]:\n",
    "    print(\"String2 is Palindrome\")\n",
    "else:\n",
    "    print(\"String2 is Palindrome\")\n",
    "\n",
    "#to check if both strings are anargam or not\n",
    "if (sorted(str1)==sorted(str2)):\n",
    "    print(\"Strings are anargam\")\n",
    "else:\n",
    "    print(\"Strings are not anargam\")"
   ]
  },
  {
   "cell_type": "markdown",
   "metadata": {},
   "source": [
    "Question4\n",
    "\n",
    "\n",
    "Write a Python's user defined function that removes all the additional characters from the string\n",
    "and converts it finally to lower case using built-in lower(). eg: If the string is \"Dr. Darshan Ingle\n",
    "@AI-ML Trainer\", then the output be \"drdarshaningle aimltrainer\"."
   ]
  },
  {
   "cell_type": "code",
   "execution_count": 9,
   "metadata": {},
   "outputs": [
    {
     "name": "stdout",
     "output_type": "stream",
     "text": [
      "drdarshaningle aimltrainer\n"
     ]
    }
   ],
   "source": [
    "str=\"Dr.Darshan Ingle @AI-Ml Trainer\"\n",
    "uw=[\".\" , \"-\"]\n",
    "for i in uw:\n",
    "    str=str.replace(i,\"\")     #this will eliminate all unwanted characters except @\n",
    "str=str.lower()               #this will lowercase all the alphabets\n",
    "str=str.replace(\" \",\"\")       #this will replace empty spaces between each letter\n",
    "uwn=[\"@\"]\n",
    "for i in uwn:\n",
    "    str=str.replace(i,\" \")  #this will remove the @ symbol & replace it with space so their will be a space as desired in question\n",
    "print(str)                  #final result is printed"
   ]
  },
  {
   "cell_type": "code",
   "execution_count": null,
   "metadata": {},
   "outputs": [],
   "source": []
  }
 ],
 "metadata": {
  "kernelspec": {
   "display_name": "Python 3",
   "language": "python",
   "name": "python3"
  },
  "language_info": {
   "codemirror_mode": {
    "name": "ipython",
    "version": 3
   },
   "file_extension": ".py",
   "mimetype": "text/x-python",
   "name": "python",
   "nbconvert_exporter": "python",
   "pygments_lexer": "ipython3",
   "version": "3.8.2"
  }
 },
 "nbformat": 4,
 "nbformat_minor": 4
}
