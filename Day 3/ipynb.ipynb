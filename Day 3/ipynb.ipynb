{
 "cells": [
  {
   "cell_type": "code",
   "execution_count": 2,
   "metadata": {},
   "outputs": [
    {
     "name": "stdout",
     "output_type": "stream",
     "text": [
      "Enter first number7983.56\n",
      "Enter number to be subtracted653.45\n",
      "7330.110000000001\n"
     ]
    }
   ],
   "source": [
    "#Write a program to subtract two complex numbers in Python.\n",
    "\n",
    "a=float(input(\"Enter first number\"))\n",
    "b=float(input(\"Enter number to be subtracted\"))\n",
    "c=a-b\n",
    "print(c)"
   ]
  },
  {
   "cell_type": "code",
   "execution_count": 4,
   "metadata": {},
   "outputs": [
    {
     "name": "stdout",
     "output_type": "stream",
     "text": [
      "Enter a number2\n",
      "1.189207115002721\n"
     ]
    }
   ],
   "source": [
    "#Write a program to find the fourth root of a number.\n",
    "\n",
    "num=int(input(\"Enter a number\"))\n",
    "root=num**(1/4)\n",
    "print(root)"
   ]
  },
  {
   "cell_type": "code",
   "execution_count": 6,
   "metadata": {},
   "outputs": [
    {
     "name": "stdout",
     "output_type": "stream",
     "text": [
      "enter first number3\n",
      "enter second number4\n",
      "A= 4\n",
      "B= 3\n"
     ]
    }
   ],
   "source": [
    "#Write a program to swap two numbers in Python with the help of a temporary variable\n",
    "\n",
    "a=int(input(\"enter first number\"))\n",
    "b=int(input(\"enter second number\"))\n",
    "temp=a\n",
    "a=b\n",
    "b=temp\n",
    "print(\"A=\",a)\n",
    "print(\"B=\",b)"
   ]
  },
  {
   "cell_type": "code",
   "execution_count": 8,
   "metadata": {},
   "outputs": [
    {
     "name": "stdout",
     "output_type": "stream",
     "text": [
      "enter first number5\n",
      "enter second number10\n",
      "Before swapping \n",
      "Value of a=  5  Value of b=  10\n",
      "After swapping \n",
      "Value of a=  10.0  Value of b=  5.0\n"
     ]
    }
   ],
   "source": [
    "#Write a program to swap two numbers in Python without using a temporary variable.\n",
    "\n",
    "a=int(input(\"enter first number\"))\n",
    "b=int(input(\"enter second number\"))\n",
    "print (\"Before swapping \") \n",
    "print(\"Value of a= \", a, \" Value of b= \", b) \n",
    "  \n",
    "#code for swapping\n",
    "a = a * b  \n",
    "b = a / b \n",
    "a = a / b \n",
    "  \n",
    "print (\"After swapping \") \n",
    "print(\"Value of a= \", a, \" Value of b= \", b) "
   ]
  },
  {
   "cell_type": "code",
   "execution_count": 10,
   "metadata": {},
   "outputs": [
    {
     "name": "stdout",
     "output_type": "stream",
     "text": [
      "Enter Temperature in fahrenheit120\n",
      "temperature in kelvin:  322.3888888888889\n",
      "Temperature in celsius:  48.88888888888889\n"
     ]
    }
   ],
   "source": [
    "#Write a program to convert fahrenheit to kelvin and celsius both.\n",
    "\n",
    "f = float(input(\"Enter Temperature in fahrenheit\"))\n",
    "kelvin = 273.5 + ((f - 32.0) * (5.0/9.0)) \n",
    "celsius = ( f - 32.0 ) * (5.0/9.0)\n",
    "print(\"temperature in kelvin: \", kelvin)\n",
    "print(\"Temperature in celsius: \", celsius)\n"
   ]
  },
  {
   "cell_type": "code",
   "execution_count": 12,
   "metadata": {},
   "outputs": [
    {
     "name": "stdout",
     "output_type": "stream",
     "text": [
      "Type of a is  <class 'int'>\n",
      "Type of b is  <class 'float'>\n",
      "Type of c is  <class 'str'>\n",
      "Type of d is  <class 'list'>\n",
      "Type of e is  <class 'tuple'>\n",
      "Type of f is  <class 'dict'>\n"
     ]
    }
   ],
   "source": [
    "#Write a program to demonstrate all the available data types in Python. Hint: Use type() function\n",
    "\n",
    "a=2\n",
    "b=2.0\n",
    "c='Jidnesh'\n",
    "d=[1,2,3,4]\n",
    "e=('hello' , 'world' , 'lets' , 'upgrade')\n",
    "f={'a':1 , 'b':2 , 'c':3}\n",
    "print(\"Type of a is \", type(a))\n",
    "print(\"Type of b is \", type(b))\n",
    "print(\"Type of c is \", type(c))\n",
    "print(\"Type of d is \", type(d))\n",
    "print(\"Type of e is \", type(e))\n",
    "print(\"Type of f is \", type(f))"
   ]
  },
  {
   "cell_type": "markdown",
   "metadata": {},
   "source": [
    "#Create a Markdown cell in jupyter and list the steps discussed in the session by Dr. Darshan\n",
    "#Ingle sir to create Github profile and upload Githubs Assignment link.\n",
    "\n",
    "Step 1:- First of all we need to create a github account and signup(or sign in)\n",
    "Step 2:- Create a Repository with name \"LetsUpgrade AI-ML\" (without inverted commas) with description as \"assignments\" and                create it\n",
    "Step 3:- After creating the repository click on the option for \"uploading an existing file\" where u can upload a file from your          system\n",
    "Step 4:- Select the file which you need to upload (i.e Day 3) or drag and drop the file on github in the opened window, then the          file will be uploaded\n",
    "Step 5:- With out changing anything click on commit changes, This will upload the file(assignment on github)\n",
    "Step 6:- Then copy the URL from the URL tab and open the google form through link in lms and fill essential details and paste            the github link in the form and submit\n",
    "Step 7:- To confirm the link is correct open it in incognito tab to verify then submit the form, then you will recieve a mail of          submission\n",
    "Step 8:- The assignment is submitted."
   ]
  },
  {
   "cell_type": "code",
   "execution_count": null,
   "metadata": {},
   "outputs": [],
   "source": [
    "#Create a Markdown cell in jupyter and list the steps discussed in the session by Dr. Darshan\n",
    "#Ingle sir to create Github profile and upload Githubs Assignment link.\n",
    "\n",
    "Step 1:- First of all we need to create a github account and signup(or sign in)\n",
    "Step 2:- Create a Repository with name \"LetsUpgrade AI-ML\" (without inverted commas) with description as \"assignments\" and                create it\n",
    "Step 3:- After creating the repository click on the option for \"uploading an existing file\" where u can upload a file from your          system\n",
    "Step 4:- Select the file which you need to upload (i.e Day 3) or drag and drop the file on github in the opened window, then the          file will be uploaded\n",
    "Step 5:- With out changing anything click on commit changes, This will upload the file(assignment on github)\n",
    "Step 6:- Then copy the URL from the URL tab and open the google form through link in lms and fill essential details and paste            the github link in the form and submit\n",
    "Step 7:- To confirm the link is correct open it in incognito tab to verify then submit the form, then you will recieve a mail of          submission\n",
    "Step 8:- The assignment is submitted."
   ]
  }
 ],
 "metadata": {
  "kernelspec": {
   "display_name": "Python 3",
   "language": "python",
   "name": "python3"
  },
  "language_info": {
   "codemirror_mode": {
    "name": "ipython",
    "version": 3
   },
   "file_extension": ".py",
   "mimetype": "text/x-python",
   "name": "python",
   "nbconvert_exporter": "python",
   "pygments_lexer": "ipython3",
   "version": "3.8.2"
  }
 },
 "nbformat": 4,
 "nbformat_minor": 4
}
