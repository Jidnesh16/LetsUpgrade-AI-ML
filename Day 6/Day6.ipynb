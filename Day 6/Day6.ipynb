{
 "cells": [
  {
   "cell_type": "code",
   "execution_count": 4,
   "metadata": {
    "scrolled": true
   },
   "outputs": [
    {
     "name": "stdout",
     "output_type": "stream",
     "text": [
      "Enter a Email address: jeffbezos@amazon.com\n",
      "The name of company is:  amazon\n"
     ]
    }
   ],
   "source": [
    "#Assuming that we have some email addresses in the \"username@companyname.com\" format, please write program to print the company name of a given email address. Both user names and company names are composed of letters only\n",
    "str1=input(\"Enter a Email address: \")\n",
    "first = str1.split('@')\n",
    "second = first[1].split('.')\n",
    "print(\"The name of company is: \",second[0])"
   ]
  },
  {
   "cell_type": "code",
   "execution_count": 5,
   "metadata": {},
   "outputs": [
    {
     "name": "stdout",
     "output_type": "stream",
     "text": [
      "hello, world, hii, alphabets\n",
      "List :  ['hello', ' world', ' hii', ' alphabets']\n",
      "Sorted List :   alphabets, hii, world,hello\n"
     ]
    }
   ],
   "source": [
    "#Write a program that accepts a comma-separated sequence of words as input and prints the words in a comma separated sequence after sorting them alphabetically. \n",
    " \n",
    "Ls = input().split(',')\n",
    "print( 'List : ', Ls )\n",
    "print( 'Sorted List : ',\",\".join( sorted(Ls) ) )"
   ]
  },
  {
   "cell_type": "markdown",
   "metadata": {},
   "source": [
    "Create your own Jupyter Notebook for Sets. \n",
    "Reference link: https://www.w3schools.com/python/python_sets.asp "
   ]
  },
  {
   "cell_type": "markdown",
   "metadata": {},
   "source": []
  },
  {
   "cell_type": "markdown",
   "metadata": {},
   "source": []
  },
  {
   "cell_type": "code",
   "execution_count": 6,
   "metadata": {},
   "outputs": [
    {
     "name": "stdout",
     "output_type": "stream",
     "text": [
      "Current list: [2, 3, 5, 2, 4, 2, 1, 'hello', 2, 8, 3, 9, 'hello', 'world', 10, 3]\n",
      "List with out duplicates :  {1, 2, 3, 4, 5, 'world', 8, 9, 10, 'hello'}\n"
     ]
    }
   ],
   "source": [
    "ls = [2,3,5,2,4,2,1,\"hello\",2,8,3,9,\"hello\",\"world\",10,3]\n",
    "print( 'Current list:', ls)\n",
    "ls2 = set ([2,3,5,2,4,2,1,\"hello\",2,8,3,9,\"hello\",\"world\",10,3])\n",
    "print( 'List with out duplicates : ', ls2 )"
   ]
  },
  {
   "cell_type": "markdown",
   "metadata": {},
   "source": []
  },
  {
   "cell_type": "markdown",
   "metadata": {},
   "source": [
    "Question 4: \n",
    "Given a list of n-1 numbers ranging from 1 to n, your task is to find the missing number. There are no duplicates. \n",
    " "
   ]
  },
  {
   "cell_type": "code",
   "execution_count": 7,
   "metadata": {},
   "outputs": [
    {
     "name": "stdout",
     "output_type": "stream",
     "text": [
      "Original List :  [1, 2, 4, 7, 5, 8, 6]\n",
      "Sorted List :  [1, 2, 4, 5, 6, 7, 8]\n",
      "Missing Number is :  3\n"
     ]
    }
   ],
   "source": [
    "list1 = [ 1,2,4,7,5,8,6 ]\n",
    "print( 'Original List : ',  list1 )\n",
    "list1 = sorted( list1 )\n",
    "print( 'Sorted List : ',  list1 )\n",
    "\n",
    "j = 0\n",
    "for i in range( list1[0], list1[ len(list1)-1 ] ):\n",
    "    if i != list1[j]:\n",
    "        print( 'Missing Number is : ', i )\n",
    "        break\n",
    "    else:\n",
    "        j = j+1"
   ]
  },
  {
   "cell_type": "markdown",
   "metadata": {},
   "source": [
    "Question 5: \n",
    "With a given list L, write a program to print this list L after removing all duplicate values with original order reserved. \n",
    " "
   ]
  },
  {
   "cell_type": "code",
   "execution_count": 8,
   "metadata": {},
   "outputs": [
    {
     "name": "stdout",
     "output_type": "stream",
     "text": [
      "Original List :  [1, 2, 4, 7, 5, 8, 6]\n",
      "List with duplicates removed:  [1, 2, 4, 5, 6, 7, 8]\n",
      "Ascending Order : 1,2,4,5,6,7,8,\n",
      "Descending Order : 8,7,6,5,4,2,1,"
     ]
    }
   ],
   "source": [
    "list1 = [ 1,2,4,7,5,8,6 ]\n",
    "print( 'Original List : ',  list1 )\n",
    "\n",
    "list2=list(set(list1))\n",
    "print(\"List with duplicates removed: \", list2)\n",
    "\n",
    "print( 'Ascending Order :', end=' ' )\n",
    "for i in sorted(list2):\n",
    "    print( i, end=',' )\n",
    "print()\n",
    "print( 'Descending Order :', end=' ' )\n",
    "for i in sorted(list2, reverse=True):\n",
    "    print( i, end=',' )"
   ]
  }
 ],
 "metadata": {
  "kernelspec": {
   "display_name": "Python 3",
   "language": "python",
   "name": "python3"
  },
  "language_info": {
   "codemirror_mode": {
    "name": "ipython",
    "version": 3
   },
   "file_extension": ".py",
   "mimetype": "text/x-python",
   "name": "python",
   "nbconvert_exporter": "python",
   "pygments_lexer": "ipython3",
   "version": "3.8.2"
  }
 },
 "nbformat": 4,
 "nbformat_minor": 4
}
